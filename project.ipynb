{
 "cells": [
  {
   "cell_type": "markdown",
   "metadata": {},
   "source": [
    "# Mini-project for D7041E\n",
    "Alex Bergdahl - alxber-0@student.ltu.se<br/>\n",
    "Linus Håkegård - linhke-0@student.ltu.se"
   ]
  },
  {
   "cell_type": "markdown",
   "metadata": {},
   "source": [
    "## Import dataset"
   ]
  },
  {
   "cell_type": "code",
   "execution_count": 158,
   "metadata": {},
   "outputs": [],
   "source": [
    "import torch\n",
    "import torchvision\n",
    "import torchvision.transforms as transforms\n",
    "from torch import nn, optim"
   ]
  },
  {
   "cell_type": "markdown",
   "metadata": {},
   "source": [
    "## Train the models"
   ]
  },
  {
   "cell_type": "markdown",
   "metadata": {},
   "source": [
    "### Set up the training and testing data"
   ]
  },
  {
   "cell_type": "code",
   "execution_count": 159,
   "metadata": {},
   "outputs": [],
   "source": [
    "batch_size_train = 64\n",
    "batch_size_test = 1000\n",
    "\n",
    "transform = transforms.Compose([transforms.ToTensor(), transforms.Normalize((0.5,), (0.5,))])\n",
    "\n",
    "trainset = torchvision.datasets.MNIST(root='./data', train=True, download=True, transform=transform)\n",
    "trainloader = torch.utils.data.DataLoader(trainset, batch_size=batch_size_train, shuffle=True)\n",
    "\n",
    "testset = torchvision.datasets.MNIST(root='./data', train=False, download=True, transform=transform)\n",
    "testloader = torch.utils.data.DataLoader(testset, batch_size=batch_size_test, shuffle=False)"
   ]
  },
  {
   "cell_type": "markdown",
   "metadata": {},
   "source": [
    "### Define the neural network model"
   ]
  },
  {
   "cell_type": "code",
   "execution_count": 160,
   "metadata": {},
   "outputs": [],
   "source": [
    "class Net(nn.Module):\n",
    "    def __init__(self, num_hidden_layers, hidden_layer_sizes):\n",
    "        super(Net, self).__init__()\n",
    "        self.num_hidden_layers = num_hidden_layers\n",
    "        self.hidden_layers = nn.ModuleList()\n",
    "\n",
    "        # Input layer\n",
    "        self.hidden_layers.append(nn.Linear(28 * 28, hidden_layer_sizes[0]))\n",
    "\n",
    "        # Hidden layers\n",
    "        for i in range(num_hidden_layers - 1):\n",
    "            self.hidden_layers.append(nn.Linear(hidden_layer_sizes[i], hidden_layer_sizes[i + 1]))\n",
    "\n",
    "        # Output layer\n",
    "        self.output_layer = nn.Linear(hidden_layer_sizes[-1], 10)\n",
    "\n",
    "    def forward(self, x):\n",
    "        x = x.view(-1, 28 * 28)\n",
    "        \n",
    "        # Pass through hidden layers\n",
    "        for layer in self.hidden_layers:\n",
    "            x = torch.relu(layer(x))\n",
    "        \n",
    "        # Output layer\n",
    "        x = self.output_layer(x)\n",
    "        return x"
   ]
  },
  {
   "cell_type": "markdown",
   "metadata": {},
   "source": [
    "### Define the training function"
   ]
  },
  {
   "cell_type": "code",
   "execution_count": 161,
   "metadata": {},
   "outputs": [],
   "source": [
    "def train_model(criterion, epochs, num_layers_list, layer_sizes_list):\n",
    "    models = []\n",
    "    \n",
    "    for num_hidden_layers, hidden_layer_sizes in zip(num_layers_list, layer_sizes_list):\n",
    "        print(f'Number of hidden layers: {num_hidden_layers}, Hidden layer sizes: {hidden_layer_sizes}')\n",
    "        for hidden_layer_size in hidden_layer_sizes:\n",
    "            net = Net(num_hidden_layers, hidden_layer_size)\n",
    "            optimizer = optim.SGD(net.parameters(), lr=0.001, momentum=0.9)\n",
    "\n",
    "            for epoch in range(epochs):\n",
    "                running_loss = 0.0\n",
    "                for i, data in enumerate(trainloader, 0):\n",
    "                    inputs, labels = data\n",
    "                    optimizer.zero_grad()\n",
    "                    outputs = net(inputs)\n",
    "                    loss = criterion(outputs, labels)\n",
    "                    loss.backward()\n",
    "                    optimizer.step()\n",
    "                    running_loss += loss.item()\n",
    "                print(f'Epoch {epoch + 1}, Loss: {running_loss / len(trainloader)}')\n",
    "            \n",
    "            # print(f'Number of hidden layers: {num_hidden_layers}, Hidden layer sizes: {hidden_layer_size}')\n",
    "            # print(type(criterion).__name__)\n",
    "            # torch.save(net.state_dict(), f'./models/{type(criterion).__name__}_{num_hidden_layers}_{hidden_layer_size}_model_weights.pth')\n",
    "            models.append((net, num_hidden_layers, hidden_layer_size))\n",
    "    return models"
   ]
  },
  {
   "cell_type": "markdown",
   "metadata": {},
   "source": [
    "### Train the model using cross entropy cost function"
   ]
  },
  {
   "cell_type": "code",
   "execution_count": 162,
   "metadata": {},
   "outputs": [
    {
     "ename": "AttributeError",
     "evalue": "module 'torch.nn' has no attribute 'AbsCriterion'",
     "output_type": "error",
     "traceback": [
      "\u001b[0;31m---------------------------------------------------------------------------\u001b[0m",
      "\u001b[0;31mAttributeError\u001b[0m                            Traceback (most recent call last)",
      "Cell \u001b[0;32mIn[162], line 9\u001b[0m\n\u001b[1;32m      5\u001b[0m layer_sizes_list \u001b[38;5;241m=\u001b[39m [[(\u001b[38;5;241m256\u001b[39m,)]]\n\u001b[1;32m      7\u001b[0m \u001b[38;5;66;03m# models_CrossEntropy = train_model(criterion, 2, [1, 2, 3], layer_sizes_list)\u001b[39;00m\n\u001b[0;32m----> 9\u001b[0m criterion \u001b[38;5;241m=\u001b[39m \u001b[43mnn\u001b[49m\u001b[38;5;241;43m.\u001b[39;49m\u001b[43mAbsCriterion\u001b[49m()\n\u001b[1;32m     11\u001b[0m models_L1Loss \u001b[38;5;241m=\u001b[39m train_model(criterion, epochs, [\u001b[38;5;241m1\u001b[39m, \u001b[38;5;241m2\u001b[39m, \u001b[38;5;241m3\u001b[39m], layer_sizes_list)\n",
      "\u001b[0;31mAttributeError\u001b[0m: module 'torch.nn' has no attribute 'AbsCriterion'"
     ]
    }
   ],
   "source": [
    "criterion = nn.CrossEntropyLoss()\n",
    "epochs = 6\n",
    "num_layers_list = [1]\n",
    "# layer_sizes_list = [[(256,), (512,), (1024,)], [(256, 256), (512, 512), (1024, 1024)], [(256, 256, 256), (512, 512, 512), (1024, 1024, 1024)]]\n",
    "layer_sizes_list = [[(256,)]]\n",
    "\n",
    "# models_CrossEntropy = train_model(criterion, 2, [1, 2, 3], layer_sizes_list)\n",
    "\n",
    "criterion = nn.AbsCriterion()\n",
    "\n",
    "models_L1Loss = train_model(criterion, epochs, [1, 2, 3], layer_sizes_list)\n",
    "\n"
   ]
  },
  {
   "cell_type": "markdown",
   "metadata": {},
   "source": [
    "## Test the models"
   ]
  },
  {
   "cell_type": "code",
   "execution_count": null,
   "metadata": {},
   "outputs": [],
   "source": []
  }
 ],
 "metadata": {
  "kernelspec": {
   "display_name": "Python 3",
   "language": "python",
   "name": "python3"
  },
  "language_info": {
   "codemirror_mode": {
    "name": "ipython",
    "version": 3
   },
   "file_extension": ".py",
   "mimetype": "text/x-python",
   "name": "python",
   "nbconvert_exporter": "python",
   "pygments_lexer": "ipython3",
   "version": "3.11.6"
  }
 },
 "nbformat": 4,
 "nbformat_minor": 2
}
